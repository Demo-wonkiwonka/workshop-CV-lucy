{
  "cells": [
    {
      "cell_type": "code",
      "execution_count": 21,
      "metadata": {},
      "outputs": [
        {
          "name": "stdout",
          "output_type": "stream",
          "text": [
            "Note: you may need to restart the kernel to use updated packages.\n"
          ]
        }
      ],
      "source": [
        "# Install necessary libraries (run this cell if needed)\n",
        "%pip install torch torchvision datasets pandas matplotlib seaborn tqdm --quiet\n"
      ]
    },
    {
      "cell_type": "markdown",
      "metadata": {},
      "source": [
        "# Workshop: Handwritten Mathematical Expression Recognition\n",
        "\n",
        "In this workshop, we will train different types of models to recognize handwritten mathematical expressions and convert them to LaTeX. We will use the [Azu/Handwritten-Mathematical-Expression-Convert-LaTeX](https://huggingface.co/datasets/Azu/Handwritten-Mathematical-Expression-Convert-LaTeX) dataset from Hugging Face.\n",
        "\n",
        "## Step 1: Load the Dataset\n",
        "We will start by loading the dataset and exploring its structure.\n"
      ]
    },
    {
      "cell_type": "code",
      "execution_count": 22,
      "metadata": {},
      "outputs": [
        {
          "data": {
            "text/plain": [
              "DatasetDict({\n",
              "    train: Dataset({\n",
              "        features: ['image', 'label'],\n",
              "        num_rows: 12167\n",
              "    })\n",
              "})"
            ]
          },
          "execution_count": 22,
          "metadata": {},
          "output_type": "execute_result"
        }
      ],
      "source": [
        "from datasets import load_dataset\n",
        "\n",
        "ds = load_dataset(\"Azu/Handwritten-Mathematical-Expression-Convert-LaTeX\")\n",
        "ds\n"
      ]
    },
    {
      "cell_type": "code",
      "execution_count": 23,
      "metadata": {},
      "outputs": [
        {
          "name": "stdout",
          "output_type": "stream",
          "text": [
            "Dataset keys: dict_keys(['train'])\n",
            "Features: {'image': Image(mode=None, decode=True), 'label': ClassLabel(names=['2014', '2016', '2019', 'train'])}\n",
            "First 3 samples: {'image': [<PIL.BmpImagePlugin.BmpImageFile image mode=L size=464x85 at 0x1FF615078A0>, <PIL.BmpImagePlugin.BmpImageFile image mode=L size=105x69 at 0x1FF618FC050>, <PIL.BmpImagePlugin.BmpImageFile image mode=L size=76x56 at 0x1FF61E85C50>], 'label': [0, 0, 0]}\n",
            "\n",
            "Class names: ['2014', '2016', '2019', 'train']\n",
            "Number of classes: 4\n"
          ]
        }
      ],
      "source": [
        "# Display the first few samples and dataset features\n",
        "print(\"Dataset keys:\", ds.keys())\n",
        "print(\"Features:\", ds['train'].features)\n",
        "print(\"First 3 samples:\", ds['train'][0:3])\n",
        "print(\"\\nClass names:\", ds['train'].features['label'].names)\n",
        "print(\"Number of classes:\", len(ds['train'].features['label'].names))\n"
      ]
    },
    {
      "cell_type": "code",
      "execution_count": 24,
      "metadata": {},
      "outputs": [],
      "source": [
        "from torch.utils.data import Dataset\n",
        "\n",
        "class HFDataset(Dataset):\n",
        "    def __init__(self, hf_dataset, transform=None):\n",
        "        self.hf_dataset = hf_dataset\n",
        "        self.transform = transform\n",
        "\n",
        "    def __len__(self):\n",
        "        return len(self.hf_dataset)\n",
        "\n",
        "    def __getitem__(self, idx):\n",
        "        item = self.hf_dataset[idx]\n",
        "        image = item['image'].convert('L')  # Ensure grayscale\n",
        "        label = item['label']\n",
        "        if self.transform:\n",
        "            image = self.transform(image)\n",
        "        return image, label\n"
      ]
    },
    {
      "cell_type": "markdown",
      "metadata": {},
      "source": [
        "## Step 2: Splitting the Dataset\n",
        "\n",
        "The loaded dataset contains only a `train` split. To properly evaluate our models, we need to create a separate test set. We will randomly split the original training data into a new training set and a test set (for example, 80% for training and 20% for testing).\n"
      ]
    },
    {
      "cell_type": "code",
      "execution_count": 25,
      "metadata": {},
      "outputs": [
        {
          "name": "stdout",
          "output_type": "stream",
          "text": [
            "Training samples: 9733\n",
            "Validation samples: 2434\n",
            "Number of classes: 4\n",
            "Class names: ['2014', '2016', '2019', 'train']\n"
          ]
        }
      ],
      "source": [
        "# Split the dataset into train and validation sets\n",
        "train_test_split = ds['train'].train_test_split(test_size=0.2, seed=42)\n",
        "train_ds = train_test_split['train']\n",
        "val_ds = train_test_split['test']\n",
        "\n",
        "print(f\"Training samples: {len(train_ds)}\")\n",
        "print(f\"Validation samples: {len(val_ds)}\")\n",
        "print(f\"Number of classes: {len(ds['train'].features['label'].names)}\")\n",
        "print(f\"Class names: {ds['train'].features['label'].names}\")\n"
      ]
    },
    {
      "cell_type": "markdown",
      "metadata": {},
      "source": [
        "## Step 3: Building a CNN Model\n",
        "\n",
        "Let's build a Convolutional Neural Network to classify the handwritten mathematical expressions.\n"
      ]
    },
    {
      "cell_type": "code",
      "execution_count": 26,
      "metadata": {},
      "outputs": [
        {
          "name": "stdout",
          "output_type": "stream",
          "text": [
            "Using CPU\n",
            "Train batches: 305\n",
            "Validation batches: 77\n"
          ]
        }
      ],
      "source": [
        "import torch\n",
        "import torch.nn as nn\n",
        "import torch.nn.functional as F\n",
        "from torch.utils.data import DataLoader\n",
        "from torchvision import transforms\n",
        "import os\n",
        "import pandas as pd\n",
        "from tqdm import tqdm\n",
        "\n",
        "# Hyperparameters\n",
        "BATCH_SIZE = 32\n",
        "LEARNING_RATE = 1e-3\n",
        "EPOCHS = 5  # Reduced for faster experimentation\n",
        "\n",
        "# Device selection: CUDA (NVIDIA GPU), MPS (Apple Silicon), or CPU as fallback\n",
        "if torch.cuda.is_available():\n",
        "    device = torch.device('cuda')\n",
        "    print('Using CUDA (GPU)')\n",
        "elif hasattr(torch.backends, 'mps') and torch.backends.mps.is_available():\n",
        "    device = torch.device('mps')\n",
        "    print('Using MPS (Apple Silicon GPU)')\n",
        "else:\n",
        "    device = torch.device('cpu')\n",
        "    print('Using CPU')\n",
        "\n",
        "# Define image transformations\n",
        "transform = transforms.Compose([\n",
        "    transforms.Resize((64, 256)),  # Height x Width\n",
        "    transforms.ToTensor(),\n",
        "    transforms.Normalize((0.5,), (0.5,)),\n",
        "])\n",
        "\n",
        "# Create datasets and dataloaders\n",
        "train_dataset = HFDataset(train_ds, transform=transform)\n",
        "val_dataset = HFDataset(val_ds, transform=transform)\n",
        "\n",
        "train_loader = DataLoader(train_dataset, batch_size=BATCH_SIZE, shuffle=True)\n",
        "val_loader = DataLoader(val_dataset, batch_size=BATCH_SIZE, shuffle=False)\n",
        "\n",
        "print(f\"Train batches: {len(train_loader)}\")\n",
        "print(f\"Validation batches: {len(val_loader)}\")\n"
      ]
    },
    {
      "cell_type": "code",
      "execution_count": 27,
      "metadata": {},
      "outputs": [
        {
          "name": "stdout",
          "output_type": "stream",
          "text": [
            "Number of classes: 4\n",
            "Model parameters: 16872452\n"
          ]
        }
      ],
      "source": [
        "class SimpleCNN(nn.Module):\n",
        "    def __init__(self, num_classes):\n",
        "        super(SimpleCNN, self).__init__()\n",
        "        self.conv1 = nn.Conv2d(1, 32, kernel_size=3, padding=1)\n",
        "        self.conv2 = nn.Conv2d(32, 64, kernel_size=3, padding=1)\n",
        "        self.conv3 = nn.Conv2d(64, 128, kernel_size=3, padding=1)\n",
        "        self.pool = nn.MaxPool2d(2, 2)\n",
        "        self.dropout = nn.Dropout(0.5)\n",
        "        \n",
        "        # Calculate the size after convolutions and pooling\n",
        "        # Input: (64, 256) -> after 3 pooling: (8, 32)\n",
        "        self.fc1 = nn.Linear(128 * 8 * 32, 512)\n",
        "        self.fc2 = nn.Linear(512, num_classes)\n",
        "\n",
        "    def forward(self, x):\n",
        "        x = self.pool(F.relu(self.conv1(x)))  # (32, 128)\n",
        "        x = self.pool(F.relu(self.conv2(x)))  # (16, 64)\n",
        "        x = self.pool(F.relu(self.conv3(x)))  # (8, 32)\n",
        "        x = x.view(x.size(0), -1)\n",
        "        x = self.dropout(F.relu(self.fc1(x)))\n",
        "        x = self.fc2(x)\n",
        "        return x\n",
        "\n",
        "# Get number of classes from dataset\n",
        "num_classes = len(ds['train'].features['label'].names)\n",
        "print(f\"Number of classes: {num_classes}\")\n",
        "\n",
        "model = SimpleCNN(num_classes).to(device)\n",
        "\n",
        "# Define optimizer and loss function\n",
        "optimizer = torch.optim.Adam(model.parameters(), lr=LEARNING_RATE)\n",
        "criterion = nn.CrossEntropyLoss()\n",
        "\n",
        "print(f\"Model parameters: {sum(p.numel() for p in model.parameters() if p.requires_grad)}\")\n"
      ]
    },
    {
      "cell_type": "markdown",
      "metadata": {},
      "source": [
        "## Step 4: Training the CNN Model\n",
        "\n",
        "Now let's train our CNN model and track its performance.\n"
      ]
    },
    {
      "cell_type": "code",
      "execution_count": null,
      "metadata": {},
      "outputs": [
        {
          "name": "stderr",
          "output_type": "stream",
          "text": [
            "Training Epoch 1/5:   1%|▏         | 4/305 [00:14<18:37,  3.71s/it, Loss=1.1082, Acc=55.47%]"
          ]
        }
      ],
      "source": [
        "# Directory to save trained models\n",
        "os.makedirs('saved_models', exist_ok=True)\n",
        "\n",
        "# DataFrame to store training history\n",
        "history_df = pd.DataFrame(columns=['model', 'epoch', 'train_loss', 'val_loss', 'train_acc', 'val_acc'])\n",
        "\n",
        "# Training loop\n",
        "for epoch in range(EPOCHS):\n",
        "    # Training phase\n",
        "    model.train()\n",
        "    running_loss = 0.0\n",
        "    correct = 0\n",
        "    total = 0\n",
        "    \n",
        "    train_pbar = tqdm(train_loader, desc=f'Training Epoch {epoch+1}/{EPOCHS}')\n",
        "    for batch_idx, (images, labels) in enumerate(train_pbar):\n",
        "        images, labels = images.to(device), labels.to(device)\n",
        "        \n",
        "        optimizer.zero_grad()\n",
        "        outputs = model(images)\n",
        "        loss = criterion(outputs, labels)\n",
        "        loss.backward()\n",
        "        optimizer.step()\n",
        "        \n",
        "        running_loss += loss.item() * images.size(0)\n",
        "        _, predicted = outputs.max(1)\n",
        "        correct += predicted.eq(labels).sum().item()\n",
        "        total += labels.size(0)\n",
        "        \n",
        "        # Update progress bar\n",
        "        train_pbar.set_postfix({\n",
        "            'Loss': f'{loss.item():.4f}',\n",
        "            'Acc': f'{100.*correct/total:.2f}%'\n",
        "        })\n",
        "    \n",
        "    train_loss = running_loss / total\n",
        "    train_acc = correct / total\n",
        "\n",
        "    # Validation phase\n",
        "    model.eval()\n",
        "    val_loss = 0.0\n",
        "    val_correct = 0\n",
        "    val_total = 0\n",
        "    \n",
        "    with torch.no_grad():\n",
        "        val_pbar = tqdm(val_loader, desc=f'Validation Epoch {epoch+1}/{EPOCHS}')\n",
        "        for images, labels in val_pbar:\n",
        "            images, labels = images.to(device), labels.to(device)\n",
        "            outputs = model(images)\n",
        "            loss = criterion(outputs, labels)\n",
        "            \n",
        "            val_loss += loss.item() * images.size(0)\n",
        "            _, predicted = outputs.max(1)\n",
        "            val_correct += predicted.eq(labels).sum().item()\n",
        "            val_total += labels.size(0)\n",
        "            \n",
        "            # Update progress bar\n",
        "            val_pbar.set_postfix({\n",
        "                'Loss': f'{loss.item():.4f}',\n",
        "                'Acc': f'{100.*val_correct/val_total:.2f}%'\n",
        "            })\n",
        "    \n",
        "    val_loss = val_loss / val_total\n",
        "    val_acc = val_correct / val_total\n",
        "\n",
        "    # Print epoch results\n",
        "    print(f'Epoch {epoch+1}/{EPOCHS}:')\n",
        "    print(f'  Train Loss: {train_loss:.4f}, Train Acc: {train_acc:.4f}')\n",
        "    print(f'  Val Loss: {val_loss:.4f}, Val Acc: {val_acc:.4f}')\n",
        "    print('-' * 50)\n",
        "\n",
        "    # Save results to DataFrame\n",
        "    history_df = pd.concat([\n",
        "        history_df,\n",
        "        pd.DataFrame([{\n",
        "            'model': 'SimpleCNN',\n",
        "            'epoch': epoch+1,\n",
        "            'train_loss': train_loss,\n",
        "            'val_loss': val_loss,\n",
        "            'train_acc': train_acc,\n",
        "            'val_acc': val_acc\n",
        "        }])\n",
        "    ], ignore_index=True)\n",
        "\n",
        "    # Save model checkpoint\n",
        "    torch.save(model.state_dict(), f'saved_models/SimpleCNN_epoch{epoch+1}.pt')\n",
        "\n",
        "# Save training history to CSV\n",
        "history_df.to_csv('saved_models/training_history.csv', index=False)\n",
        "print(\"Training completed!\")\n",
        "print(f\"Final validation accuracy: {val_acc:.4f}\")\n"
      ]
    },
    {
      "cell_type": "markdown",
      "metadata": {},
      "source": [
        "## Step 5: Visualize Training Results\n"
      ]
    },
    {
      "cell_type": "code",
      "execution_count": null,
      "metadata": {},
      "outputs": [],
      "source": [
        "import matplotlib.pyplot as plt\n",
        "\n",
        "# Plot training history\n",
        "fig, (ax1, ax2) = plt.subplots(1, 2, figsize=(12, 5))\n",
        "\n",
        "# Plot loss\n",
        "ax1.plot(history_df['epoch'], history_df['train_loss'], label='Train Loss', marker='o')\n",
        "ax1.plot(history_df['epoch'], history_df['val_loss'], label='Validation Loss', marker='s')\n",
        "ax1.set_xlabel('Epoch')\n",
        "ax1.set_ylabel('Loss')\n",
        "ax1.set_title('Training and Validation Loss')\n",
        "ax1.legend()\n",
        "ax1.grid(True)\n",
        "\n",
        "# Plot accuracy\n",
        "ax2.plot(history_df['epoch'], history_df['train_acc'], label='Train Accuracy', marker='o')\n",
        "ax2.plot(history_df['epoch'], history_df['val_acc'], label='Validation Accuracy', marker='s')\n",
        "ax2.set_xlabel('Epoch')\n",
        "ax2.set_ylabel('Accuracy')\n",
        "ax2.set_title('Training and Validation Accuracy')\n",
        "ax2.legend()\n",
        "ax2.grid(True)\n",
        "\n",
        "plt.tight_layout()\n",
        "plt.show()\n",
        "\n",
        "# Display final results\n",
        "print(\"\\nTraining History:\")\n",
        "print(history_df)\n"
      ]
    },
    {
      "cell_type": "markdown",
      "metadata": {},
      "source": [
        "## Step 6: Test the Model\n",
        "\n",
        "Let's test our trained model on a few samples from the validation set.\n"
      ]
    },
    {
      "cell_type": "code",
      "execution_count": null,
      "metadata": {},
      "outputs": [],
      "source": [
        "import numpy as np\n",
        "\n",
        "# Get class names\n",
        "class_names = ds['train'].features['label'].names\n",
        "\n",
        "# Test on a few samples\n",
        "model.eval()\n",
        "with torch.no_grad():\n",
        "    # Get a batch from validation loader\n",
        "    images, labels = next(iter(val_loader))\n",
        "    images, labels = images.to(device), labels.to(device)\n",
        "    \n",
        "    # Make predictions\n",
        "    outputs = model(images)\n",
        "    _, predicted = outputs.max(1)\n",
        "    \n",
        "    # Show first 8 samples\n",
        "    fig, axes = plt.subplots(2, 4, figsize=(15, 8))\n",
        "    axes = axes.ravel()\n",
        "    \n",
        "    for i in range(8):\n",
        "        # Convert tensor to numpy for visualization\n",
        "        img = images[i].cpu().squeeze().numpy()\n",
        "        \n",
        "        axes[i].imshow(img, cmap='gray')\n",
        "        axes[i].set_title(f'True: {class_names[labels[i]]}, Pred: {class_names[predicted[i]]}')\n",
        "        axes[i].axis('off')\n",
        "        \n",
        "        # Color the title based on correctness\n",
        "        if labels[i] == predicted[i]:\n",
        "            axes[i].title.set_color('green')\n",
        "        else:\n",
        "            axes[i].title.set_color('red')\n",
        "    \n",
        "    plt.tight_layout()\n",
        "    plt.show()\n",
        "    \n",
        "    # Calculate accuracy for this batch\n",
        "    batch_acc = (predicted == labels).float().mean().item()\n",
        "    print(f\"Batch accuracy: {batch_acc:.4f}\")\n"
      ]
    },
    {
      "cell_type": "markdown",
      "metadata": {},
      "source": [
        "## Next Steps\n",
        "\n",
        "Now you can experiment with:\n",
        "\n",
        "1. **Different architectures**: Try deeper CNNs, ResNet blocks, or attention mechanisms\n",
        "2. **Hyperparameters**: Adjust learning rate, batch size, number of epochs\n",
        "3. **Data augmentation**: Add rotation, scaling, noise to improve generalization\n",
        "4. **Advanced models**: Implement encoder-decoder architectures for sequence generation\n",
        "5. **Transfer learning**: Use pretrained models like TrOCR or Vision Transformers\n",
        "\n",
        "The training history is saved in `saved_models/training_history.csv` and model checkpoints are in the `saved_models/` directory.\n"
      ]
    },
    {
      "cell_type": "markdown",
      "metadata": {},
      "source": []
    }
  ],
  "metadata": {
    "language_info": {
      "name": "python"
    }
  },
  "nbformat": 4,
  "nbformat_minor": 2
}
