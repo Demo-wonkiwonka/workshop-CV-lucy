{
  "cells": [
    {
      "cell_type": "markdown",
      "metadata": {},
      "source": [
        "# Handwriting Recognition Workshop\n",
        "\n",
        "Welcome to the Handwriting Recognition Workshop! This notebook will guide you through the complete process of training and comparing different vision models for handwriting recognition.\n",
        "\n",
        "## Workshop Objectives\n",
        "- Learn about different neural network architectures\n",
        "- Train multiple models and compare their performance\n",
        "- Create custom datasets from handwriting images\n",
        "- Evaluate models using comprehensive metrics\n",
        "\n",
        "Let's get started!\n"
      ]
    },
    {
      "cell_type": "markdown",
      "metadata": {},
      "source": [
        "## Step 1: Setup and Installation\n",
        "\n",
        "First, let's install the required packages and import the necessary modules.\n"
      ]
    },
    {
      "cell_type": "code",
      "execution_count": 1,
      "metadata": {},
      "outputs": [
        {
          "name": "stdout",
          "output_type": "stream",
          "text": [
            "Requirement already satisfied: torch in c:\\users\\guill\\appdata\\local\\programs\\python\\python311\\lib\\site-packages (2.0.1+cu118)\n",
            "Requirement already satisfied: torchvision in c:\\users\\guill\\appdata\\local\\programs\\python\\python311\\lib\\site-packages (0.15.2+cu118)\n",
            "Requirement already satisfied: transformers in c:\\users\\guill\\appdata\\local\\programs\\python\\python311\\lib\\site-packages (4.35.2)\n",
            "Requirement already satisfied: datasets in c:\\users\\guill\\appdata\\local\\programs\\python\\python311\\lib\\site-packages (2.15.0)\n",
            "Requirement already satisfied: huggingface-hub in c:\\users\\guill\\appdata\\local\\programs\\python\\python311\\lib\\site-packages (0.20.3)\n",
            "Requirement already satisfied: Pillow in c:\\users\\guill\\appdata\\local\\programs\\python\\python311\\lib\\site-packages (9.5.0)\n",
            "Requirement already satisfied: numpy in c:\\users\\guill\\appdata\\local\\programs\\python\\python311\\lib\\site-packages (1.24.3)\n",
            "Requirement already satisfied: matplotlib in c:\\users\\guill\\appdata\\local\\programs\\python\\python311\\lib\\site-packages (3.7.1)\n",
            "Requirement already satisfied: seaborn in c:\\users\\guill\\appdata\\local\\programs\\python\\python311\\lib\\site-packages (0.13.0)\n",
            "Requirement already satisfied: scikit-learn in c:\\users\\guill\\appdata\\local\\programs\\python\\python311\\lib\\site-packages (1.4.1.post1)\n",
            "Requirement already satisfied: tqdm in c:\\users\\guill\\appdata\\local\\programs\\python\\python311\\lib\\site-packages (4.66.4)\n",
            "Requirement already satisfied: opencv-python in c:\\users\\guill\\appdata\\local\\programs\\python\\python311\\lib\\site-packages (4.7.0.72)\n",
            "Requirement already satisfied: tensorboard in c:\\users\\guill\\appdata\\local\\programs\\python\\python311\\lib\\site-packages (2.14.1)\n",
            "Requirement already satisfied: wandb in c:\\users\\guill\\appdata\\local\\programs\\python\\python311\\lib\\site-packages (0.16.0)\n",
            "Requirement already satisfied: jupyter in c:\\users\\guill\\appdata\\local\\programs\\python\\python311\\lib\\site-packages (1.0.0)\n",
            "Requirement already satisfied: ipywidgets in c:\\users\\guill\\appdata\\local\\programs\\python\\python311\\lib\\site-packages (8.1.1)\n",
            "Requirement already satisfied: filelock in c:\\users\\guill\\appdata\\local\\programs\\python\\python311\\lib\\site-packages (from torch) (3.12.0)\n",
            "Requirement already satisfied: typing-extensions in c:\\users\\guill\\appdata\\local\\programs\\python\\python311\\lib\\site-packages (from torch) (4.12.0)\n",
            "Requirement already satisfied: sympy in c:\\users\\guill\\appdata\\local\\programs\\python\\python311\\lib\\site-packages (from torch) (1.12)\n",
            "Requirement already satisfied: networkx in c:\\users\\guill\\appdata\\local\\programs\\python\\python311\\lib\\site-packages (from torch) (3.1)\n",
            "Requirement already satisfied: jinja2 in c:\\users\\guill\\appdata\\local\\programs\\python\\python311\\lib\\site-packages (from torch) (3.1.2)\n",
            "Requirement already satisfied: requests in c:\\users\\guill\\appdata\\local\\programs\\python\\python311\\lib\\site-packages (from torchvision) (2.31.0)\n",
            "Requirement already satisfied: packaging>=20.0 in c:\\users\\guill\\appdata\\local\\programs\\python\\python311\\lib\\site-packages (from transformers) (23.1)\n",
            "Requirement already satisfied: pyyaml>=5.1 in c:\\users\\guill\\appdata\\local\\programs\\python\\python311\\lib\\site-packages (from transformers) (6.0.1)\n",
            "Requirement already satisfied: regex!=2019.12.17 in c:\\users\\guill\\appdata\\local\\programs\\python\\python311\\lib\\site-packages (from transformers) (2023.10.3)\n",
            "Requirement already satisfied: tokenizers<0.19,>=0.14 in c:\\users\\guill\\appdata\\local\\programs\\python\\python311\\lib\\site-packages (from transformers) (0.15.0)\n",
            "Requirement already satisfied: safetensors>=0.3.1 in c:\\users\\guill\\appdata\\local\\programs\\python\\python311\\lib\\site-packages (from transformers) (0.4.1)\n",
            "Requirement already satisfied: fsspec>=2023.5.0 in c:\\users\\guill\\appdata\\local\\programs\\python\\python311\\lib\\site-packages (from huggingface-hub) (2023.10.0)\n",
            "Requirement already satisfied: pyarrow>=8.0.0 in c:\\users\\guill\\appdata\\local\\programs\\python\\python311\\lib\\site-packages (from datasets) (14.0.1)\n",
            "Requirement already satisfied: pyarrow-hotfix in c:\\users\\guill\\appdata\\local\\programs\\python\\python311\\lib\\site-packages (from datasets) (0.6)\n",
            "Requirement already satisfied: dill<0.3.8,>=0.3.0 in c:\\users\\guill\\appdata\\local\\programs\\python\\python311\\lib\\site-packages (from datasets) (0.3.7)\n",
            "Requirement already satisfied: pandas in c:\\users\\guill\\appdata\\local\\programs\\python\\python311\\lib\\site-packages (from datasets) (2.1.3)\n",
            "Requirement already satisfied: xxhash in c:\\users\\guill\\appdata\\local\\programs\\python\\python311\\lib\\site-packages (from datasets) (3.4.1)\n",
            "Requirement already satisfied: multiprocess in c:\\users\\guill\\appdata\\local\\programs\\python\\python311\\lib\\site-packages (from datasets) (0.70.15)\n",
            "Requirement already satisfied: aiohttp in c:\\users\\guill\\appdata\\local\\programs\\python\\python311\\lib\\site-packages (from datasets) (3.9.1)\n",
            "Requirement already satisfied: contourpy>=1.0.1 in c:\\users\\guill\\appdata\\local\\programs\\python\\python311\\lib\\site-packages (from matplotlib) (1.0.7)\n",
            "Requirement already satisfied: cycler>=0.10 in c:\\users\\guill\\appdata\\local\\programs\\python\\python311\\lib\\site-packages (from matplotlib) (0.11.0)\n",
            "Requirement already satisfied: fonttools>=4.22.0 in c:\\users\\guill\\appdata\\local\\programs\\python\\python311\\lib\\site-packages (from matplotlib) (4.39.4)\n",
            "Requirement already satisfied: kiwisolver>=1.0.1 in c:\\users\\guill\\appdata\\local\\programs\\python\\python311\\lib\\site-packages (from matplotlib) (1.4.4)\n",
            "Requirement already satisfied: pyparsing>=2.3.1 in c:\\users\\guill\\appdata\\local\\programs\\python\\python311\\lib\\site-packages (from matplotlib) (3.0.9)\n",
            "Requirement already satisfied: python-dateutil>=2.7 in c:\\users\\guill\\appdata\\local\\programs\\python\\python311\\lib\\site-packages (from matplotlib) (2.8.2)\n",
            "Requirement already satisfied: scipy>=1.6.0 in c:\\users\\guill\\appdata\\local\\programs\\python\\python311\\lib\\site-packages (from scikit-learn) (1.12.0)\n",
            "Requirement already satisfied: joblib>=1.2.0 in c:\\users\\guill\\appdata\\local\\programs\\python\\python311\\lib\\site-packages (from scikit-learn) (1.3.2)\n",
            "Requirement already satisfied: threadpoolctl>=2.0.0 in c:\\users\\guill\\appdata\\local\\programs\\python\\python311\\lib\\site-packages (from scikit-learn) (3.3.0)\n",
            "Requirement already satisfied: colorama in c:\\users\\guill\\appdata\\local\\programs\\python\\python311\\lib\\site-packages (from tqdm) (0.4.6)\n",
            "Requirement already satisfied: absl-py>=0.4 in c:\\users\\guill\\appdata\\local\\programs\\python\\python311\\lib\\site-packages (from tensorboard) (1.4.0)\n",
            "Requirement already satisfied: grpcio>=1.48.2 in c:\\users\\guill\\appdata\\local\\programs\\python\\python311\\lib\\site-packages (from tensorboard) (1.54.2)\n",
            "Requirement already satisfied: google-auth<3,>=1.6.3 in c:\\users\\guill\\appdata\\local\\programs\\python\\python311\\lib\\site-packages (from tensorboard) (2.18.1)\n",
            "Requirement already satisfied: google-auth-oauthlib<1.1,>=0.5 in c:\\users\\guill\\appdata\\local\\programs\\python\\python311\\lib\\site-packages (from tensorboard) (1.0.0)\n",
            "Requirement already satisfied: markdown>=2.6.8 in c:\\users\\guill\\appdata\\local\\programs\\python\\python311\\lib\\site-packages (from tensorboard) (3.4.3)\n",
            "Requirement already satisfied: protobuf>=3.19.6 in c:\\users\\guill\\appdata\\local\\programs\\python\\python311\\lib\\site-packages (from tensorboard) (4.23.1)\n",
            "Requirement already satisfied: setuptools>=41.0.0 in c:\\users\\guill\\appdata\\local\\programs\\python\\python311\\lib\\site-packages (from tensorboard) (65.5.0)\n",
            "Requirement already satisfied: six>1.9 in c:\\users\\guill\\appdata\\local\\programs\\python\\python311\\lib\\site-packages (from tensorboard) (1.16.0)\n",
            "Requirement already satisfied: tensorboard-data-server<0.8.0,>=0.7.0 in c:\\users\\guill\\appdata\\local\\programs\\python\\python311\\lib\\site-packages (from tensorboard) (0.7.0)\n",
            "Requirement already satisfied: werkzeug>=1.0.1 in c:\\users\\guill\\appdata\\local\\programs\\python\\python311\\lib\\site-packages (from tensorboard) (2.3.4)\n",
            "Requirement already satisfied: cachetools<6.0,>=2.0.0 in c:\\users\\guill\\appdata\\local\\programs\\python\\python311\\lib\\site-packages (from google-auth<3,>=1.6.3->tensorboard) (5.3.0)\n",
            "Requirement already satisfied: pyasn1-modules>=0.2.1 in c:\\users\\guill\\appdata\\local\\programs\\python\\python311\\lib\\site-packages (from google-auth<3,>=1.6.3->tensorboard) (0.3.0)\n",
            "Requirement already satisfied: urllib3<2.0 in c:\\users\\guill\\appdata\\local\\programs\\python\\python311\\lib\\site-packages (from google-auth<3,>=1.6.3->tensorboard) (1.26.16)\n",
            "Requirement already satisfied: rsa<5,>=3.1.4 in c:\\users\\guill\\appdata\\local\\programs\\python\\python311\\lib\\site-packages (from google-auth<3,>=1.6.3->tensorboard) (4.9)\n",
            "Requirement already satisfied: requests-oauthlib>=0.7.0 in c:\\users\\guill\\appdata\\local\\programs\\python\\python311\\lib\\site-packages (from google-auth-oauthlib<1.1,>=0.5->tensorboard) (1.3.1)\n",
            "Requirement already satisfied: charset-normalizer<4,>=2 in c:\\users\\guill\\appdata\\local\\programs\\python\\python311\\lib\\site-packages (from requests->torchvision) (3.1.0)\n",
            "Requirement already satisfied: idna<4,>=2.5 in c:\\users\\guill\\appdata\\local\\programs\\python\\python311\\lib\\site-packages (from requests->torchvision) (3.4)\n",
            "Requirement already satisfied: certifi>=2017.4.17 in c:\\users\\guill\\appdata\\local\\programs\\python\\python311\\lib\\site-packages (from requests->torchvision) (2023.5.7)\n",
            "Requirement already satisfied: pyasn1>=0.1.3 in c:\\users\\guill\\appdata\\local\\programs\\python\\python311\\lib\\site-packages (from rsa<5,>=3.1.4->google-auth<3,>=1.6.3->tensorboard) (0.5.0)\n",
            "Requirement already satisfied: Click!=8.0.0,>=7.1 in c:\\users\\guill\\appdata\\local\\programs\\python\\python311\\lib\\site-packages (from wandb) (8.1.7)\n",
            "Requirement already satisfied: GitPython!=3.1.29,>=1.0.0 in c:\\users\\guill\\appdata\\local\\programs\\python\\python311\\lib\\site-packages (from wandb) (3.1.40)\n",
            "Requirement already satisfied: psutil>=5.0.0 in c:\\users\\guill\\appdata\\local\\programs\\python\\python311\\lib\\site-packages (from wandb) (5.9.6)\n",
            "Requirement already satisfied: sentry-sdk>=1.0.0 in c:\\users\\guill\\appdata\\local\\programs\\python\\python311\\lib\\site-packages (from wandb) (1.38.0)\n",
            "Requirement already satisfied: docker-pycreds>=0.4.0 in c:\\users\\guill\\appdata\\local\\programs\\python\\python311\\lib\\site-packages (from wandb) (0.4.0)\n",
            "Requirement already satisfied: setproctitle in c:\\users\\guill\\appdata\\local\\programs\\python\\python311\\lib\\site-packages (from wandb) (1.3.3)\n",
            "Requirement already satisfied: appdirs>=1.4.3 in c:\\users\\guill\\appdata\\local\\programs\\python\\python311\\lib\\site-packages (from wandb) (1.4.4)\n",
            "Requirement already satisfied: notebook in c:\\users\\guill\\appdata\\local\\programs\\python\\python311\\lib\\site-packages (from jupyter) (7.0.6)\n",
            "Requirement already satisfied: qtconsole in c:\\users\\guill\\appdata\\local\\programs\\python\\python311\\lib\\site-packages (from jupyter) (5.4.4)\n",
            "Requirement already satisfied: jupyter-console in c:\\users\\guill\\appdata\\local\\programs\\python\\python311\\lib\\site-packages (from jupyter) (6.6.3)\n",
            "Requirement already satisfied: nbconvert in c:\\users\\guill\\appdata\\local\\programs\\python\\python311\\lib\\site-packages (from jupyter) (7.9.2)\n",
            "Requirement already satisfied: ipykernel in c:\\users\\guill\\appdata\\local\\programs\\python\\python311\\lib\\site-packages (from jupyter) (6.25.2)\n",
            "Requirement already satisfied: comm>=0.1.3 in c:\\users\\guill\\appdata\\local\\programs\\python\\python311\\lib\\site-packages (from ipywidgets) (0.1.4)\n",
            "Requirement already satisfied: ipython>=6.1.0 in c:\\users\\guill\\appdata\\local\\programs\\python\\python311\\lib\\site-packages (from ipywidgets) (8.16.1)\n",
            "Requirement already satisfied: traitlets>=4.3.1 in c:\\users\\guill\\appdata\\local\\programs\\python\\python311\\lib\\site-packages (from ipywidgets) (5.11.2)\n",
            "Requirement already satisfied: widgetsnbextension~=4.0.9 in c:\\users\\guill\\appdata\\local\\programs\\python\\python311\\lib\\site-packages (from ipywidgets) (4.0.9)\n",
            "Requirement already satisfied: jupyterlab-widgets~=3.0.9 in c:\\users\\guill\\appdata\\local\\programs\\python\\python311\\lib\\site-packages (from ipywidgets) (3.0.9)\n",
            "Requirement already satisfied: attrs>=17.3.0 in c:\\users\\guill\\appdata\\local\\programs\\python\\python311\\lib\\site-packages (from aiohttp->datasets) (23.1.0)\n",
            "Requirement already satisfied: multidict<7.0,>=4.5 in c:\\users\\guill\\appdata\\local\\programs\\python\\python311\\lib\\site-packages (from aiohttp->datasets) (6.0.4)\n",
            "Requirement already satisfied: yarl<2.0,>=1.0 in c:\\users\\guill\\appdata\\local\\programs\\python\\python311\\lib\\site-packages (from aiohttp->datasets) (1.9.3)\n",
            "Requirement already satisfied: frozenlist>=1.1.1 in c:\\users\\guill\\appdata\\local\\programs\\python\\python311\\lib\\site-packages (from aiohttp->datasets) (1.4.0)\n",
            "Requirement already satisfied: aiosignal>=1.1.2 in c:\\users\\guill\\appdata\\local\\programs\\python\\python311\\lib\\site-packages (from aiohttp->datasets) (1.3.1)\n",
            "Requirement already satisfied: gitdb<5,>=4.0.1 in c:\\users\\guill\\appdata\\local\\programs\\python\\python311\\lib\\site-packages (from GitPython!=3.1.29,>=1.0.0->wandb) (4.0.11)\n",
            "Requirement already satisfied: smmap<6,>=3.0.1 in c:\\users\\guill\\appdata\\local\\programs\\python\\python311\\lib\\site-packages (from gitdb<5,>=4.0.1->GitPython!=3.1.29,>=1.0.0->wandb) (5.0.1)\n",
            "Requirement already satisfied: backcall in c:\\users\\guill\\appdata\\local\\programs\\python\\python311\\lib\\site-packages (from ipython>=6.1.0->ipywidgets) (0.2.0)\n",
            "Requirement already satisfied: decorator in c:\\users\\guill\\appdata\\local\\programs\\python\\python311\\lib\\site-packages (from ipython>=6.1.0->ipywidgets) (5.1.1)\n",
            "Requirement already satisfied: jedi>=0.16 in c:\\users\\guill\\appdata\\local\\programs\\python\\python311\\lib\\site-packages (from ipython>=6.1.0->ipywidgets) (0.19.1)\n",
            "Requirement already satisfied: matplotlib-inline in c:\\users\\guill\\appdata\\local\\programs\\python\\python311\\lib\\site-packages (from ipython>=6.1.0->ipywidgets) (0.1.6)\n",
            "Requirement already satisfied: pickleshare in c:\\users\\guill\\appdata\\local\\programs\\python\\python311\\lib\\site-packages (from ipython>=6.1.0->ipywidgets) (0.7.5)\n",
            "Requirement already satisfied: prompt-toolkit!=3.0.37,<3.1.0,>=3.0.30 in c:\\users\\guill\\appdata\\local\\programs\\python\\python311\\lib\\site-packages (from ipython>=6.1.0->ipywidgets) (3.0.39)\n",
            "Requirement already satisfied: pygments>=2.4.0 in c:\\users\\guill\\appdata\\local\\programs\\python\\python311\\lib\\site-packages (from ipython>=6.1.0->ipywidgets) (2.16.1)\n",
            "Requirement already satisfied: stack-data in c:\\users\\guill\\appdata\\local\\programs\\python\\python311\\lib\\site-packages (from ipython>=6.1.0->ipywidgets) (0.6.3)\n",
            "Requirement already satisfied: wcwidth in c:\\users\\guill\\appdata\\local\\programs\\python\\python311\\lib\\site-packages (from prompt-toolkit!=3.0.37,<3.1.0,>=3.0.30->ipython>=6.1.0->ipywidgets) (0.2.8)\n",
            "Requirement already satisfied: parso<0.9.0,>=0.8.3 in c:\\users\\guill\\appdata\\local\\programs\\python\\python311\\lib\\site-packages (from jedi>=0.16->ipython>=6.1.0->ipywidgets) (0.8.3)\n",
            "Requirement already satisfied: pytz>=2020.1 in c:\\users\\guill\\appdata\\local\\programs\\python\\python311\\lib\\site-packages (from pandas->datasets) (2023.3.post1)\n",
            "Requirement already satisfied: tzdata>=2022.1 in c:\\users\\guill\\appdata\\local\\programs\\python\\python311\\lib\\site-packages (from pandas->datasets) (2023.3)\n",
            "Requirement already satisfied: oauthlib>=3.0.0 in c:\\users\\guill\\appdata\\local\\programs\\python\\python311\\lib\\site-packages (from requests-oauthlib>=0.7.0->google-auth-oauthlib<1.1,>=0.5->tensorboard) (3.2.2)\n",
            "Requirement already satisfied: MarkupSafe>=2.1.1 in c:\\users\\guill\\appdata\\local\\programs\\python\\python311\\lib\\site-packages (from werkzeug>=1.0.1->tensorboard) (2.1.2)\n",
            "Requirement already satisfied: debugpy>=1.6.5 in c:\\users\\guill\\appdata\\local\\programs\\python\\python311\\lib\\site-packages (from ipykernel->jupyter) (1.8.0)\n",
            "Requirement already satisfied: jupyter-client>=6.1.12 in c:\\users\\guill\\appdata\\local\\programs\\python\\python311\\lib\\site-packages (from ipykernel->jupyter) (8.4.0)\n",
            "Requirement already satisfied: jupyter-core!=5.0.*,>=4.12 in c:\\users\\guill\\appdata\\local\\programs\\python\\python311\\lib\\site-packages (from ipykernel->jupyter) (5.4.0)\n",
            "Requirement already satisfied: nest-asyncio in c:\\users\\guill\\appdata\\local\\programs\\python\\python311\\lib\\site-packages (from ipykernel->jupyter) (1.5.8)\n",
            "Requirement already satisfied: pyzmq>=20 in c:\\users\\guill\\appdata\\local\\programs\\python\\python311\\lib\\site-packages (from ipykernel->jupyter) (25.1.1)\n",
            "Requirement already satisfied: tornado>=6.1 in c:\\users\\guill\\appdata\\local\\programs\\python\\python311\\lib\\site-packages (from ipykernel->jupyter) (6.3.3)\n",
            "Requirement already satisfied: platformdirs>=2.5 in c:\\users\\guill\\appdata\\local\\programs\\python\\python311\\lib\\site-packages (from jupyter-core!=5.0.*,>=4.12->ipykernel->jupyter) (3.11.0)\n",
            "Requirement already satisfied: pywin32>=300 in c:\\users\\guill\\appdata\\local\\programs\\python\\python311\\lib\\site-packages (from jupyter-core!=5.0.*,>=4.12->ipykernel->jupyter) (306)\n",
            "Requirement already satisfied: beautifulsoup4 in c:\\users\\guill\\appdata\\local\\programs\\python\\python311\\lib\\site-packages (from nbconvert->jupyter) (4.12.3)\n",
            "Requirement already satisfied: bleach!=5.0.0 in c:\\users\\guill\\appdata\\local\\programs\\python\\python311\\lib\\site-packages (from nbconvert->jupyter) (6.1.0)\n",
            "Requirement already satisfied: defusedxml in c:\\users\\guill\\appdata\\local\\programs\\python\\python311\\lib\\site-packages (from nbconvert->jupyter) (0.7.1)\n",
            "Requirement already satisfied: jupyterlab-pygments in c:\\users\\guill\\appdata\\local\\programs\\python\\python311\\lib\\site-packages (from nbconvert->jupyter) (0.2.2)\n",
            "Requirement already satisfied: mistune<4,>=2.0.3 in c:\\users\\guill\\appdata\\local\\programs\\python\\python311\\lib\\site-packages (from nbconvert->jupyter) (3.0.2)\n",
            "Requirement already satisfied: nbclient>=0.5.0 in c:\\users\\guill\\appdata\\local\\programs\\python\\python311\\lib\\site-packages (from nbconvert->jupyter) (0.8.0)\n",
            "Requirement already satisfied: nbformat>=5.7 in c:\\users\\guill\\appdata\\local\\programs\\python\\python311\\lib\\site-packages (from nbconvert->jupyter) (5.9.2)\n",
            "Requirement already satisfied: pandocfilters>=1.4.1 in c:\\users\\guill\\appdata\\local\\programs\\python\\python311\\lib\\site-packages (from nbconvert->jupyter) (1.5.0)\n",
            "Requirement already satisfied: tinycss2 in c:\\users\\guill\\appdata\\local\\programs\\python\\python311\\lib\\site-packages (from nbconvert->jupyter) (1.2.1)\n",
            "Requirement already satisfied: webencodings in c:\\users\\guill\\appdata\\local\\programs\\python\\python311\\lib\\site-packages (from bleach!=5.0.0->nbconvert->jupyter) (0.5.1)\n",
            "Requirement already satisfied: fastjsonschema in c:\\users\\guill\\appdata\\local\\programs\\python\\python311\\lib\\site-packages (from nbformat>=5.7->nbconvert->jupyter) (2.18.1)\n",
            "Requirement already satisfied: jsonschema>=2.6 in c:\\users\\guill\\appdata\\local\\programs\\python\\python311\\lib\\site-packages (from nbformat>=5.7->nbconvert->jupyter) (4.19.1)\n",
            "Requirement already satisfied: jsonschema-specifications>=2023.03.6 in c:\\users\\guill\\appdata\\local\\programs\\python\\python311\\lib\\site-packages (from jsonschema>=2.6->nbformat>=5.7->nbconvert->jupyter) (2023.7.1)\n",
            "Requirement already satisfied: referencing>=0.28.4 in c:\\users\\guill\\appdata\\local\\programs\\python\\python311\\lib\\site-packages (from jsonschema>=2.6->nbformat>=5.7->nbconvert->jupyter) (0.30.2)\n",
            "Requirement already satisfied: rpds-py>=0.7.1 in c:\\users\\guill\\appdata\\local\\programs\\python\\python311\\lib\\site-packages (from jsonschema>=2.6->nbformat>=5.7->nbconvert->jupyter) (0.10.6)\n",
            "Requirement already satisfied: soupsieve>1.2 in c:\\users\\guill\\appdata\\local\\programs\\python\\python311\\lib\\site-packages (from beautifulsoup4->nbconvert->jupyter) (2.5)\n",
            "Requirement already satisfied: jupyter-server<3,>=2.4.0 in c:\\users\\guill\\appdata\\local\\programs\\python\\python311\\lib\\site-packages (from notebook->jupyter) (2.8.0)\n",
            "Requirement already satisfied: jupyterlab-server<3,>=2.22.1 in c:\\users\\guill\\appdata\\local\\programs\\python\\python311\\lib\\site-packages (from notebook->jupyter) (2.25.0)\n",
            "Requirement already satisfied: jupyterlab<5,>=4.0.2 in c:\\users\\guill\\appdata\\local\\programs\\python\\python311\\lib\\site-packages (from notebook->jupyter) (4.0.7)\n",
            "Requirement already satisfied: notebook-shim<0.3,>=0.2 in c:\\users\\guill\\appdata\\local\\programs\\python\\python311\\lib\\site-packages (from notebook->jupyter) (0.2.3)\n",
            "Requirement already satisfied: anyio>=3.1.0 in c:\\users\\guill\\appdata\\local\\programs\\python\\python311\\lib\\site-packages (from jupyter-server<3,>=2.4.0->notebook->jupyter) (4.0.0)\n",
            "Requirement already satisfied: argon2-cffi in c:\\users\\guill\\appdata\\local\\programs\\python\\python311\\lib\\site-packages (from jupyter-server<3,>=2.4.0->notebook->jupyter) (23.1.0)\n",
            "Requirement already satisfied: jupyter-events>=0.6.0 in c:\\users\\guill\\appdata\\local\\programs\\python\\python311\\lib\\site-packages (from jupyter-server<3,>=2.4.0->notebook->jupyter) (0.8.0)\n",
            "Requirement already satisfied: jupyter-server-terminals in c:\\users\\guill\\appdata\\local\\programs\\python\\python311\\lib\\site-packages (from jupyter-server<3,>=2.4.0->notebook->jupyter) (0.4.4)\n",
            "Requirement already satisfied: overrides in c:\\users\\guill\\appdata\\local\\programs\\python\\python311\\lib\\site-packages (from jupyter-server<3,>=2.4.0->notebook->jupyter) (7.4.0)\n",
            "Requirement already satisfied: prometheus-client in c:\\users\\guill\\appdata\\local\\programs\\python\\python311\\lib\\site-packages (from jupyter-server<3,>=2.4.0->notebook->jupyter) (0.17.1)\n",
            "Requirement already satisfied: pywinpty in c:\\users\\guill\\appdata\\local\\programs\\python\\python311\\lib\\site-packages (from jupyter-server<3,>=2.4.0->notebook->jupyter) (2.0.12)\n",
            "Requirement already satisfied: send2trash>=1.8.2 in c:\\users\\guill\\appdata\\local\\programs\\python\\python311\\lib\\site-packages (from jupyter-server<3,>=2.4.0->notebook->jupyter) (1.8.2)\n",
            "Requirement already satisfied: terminado>=0.8.3 in c:\\users\\guill\\appdata\\local\\programs\\python\\python311\\lib\\site-packages (from jupyter-server<3,>=2.4.0->notebook->jupyter) (0.17.1)\n",
            "Requirement already satisfied: websocket-client in c:\\users\\guill\\appdata\\local\\programs\\python\\python311\\lib\\site-packages (from jupyter-server<3,>=2.4.0->notebook->jupyter) (1.6.4)\n",
            "Requirement already satisfied: async-lru>=1.0.0 in c:\\users\\guill\\appdata\\local\\programs\\python\\python311\\lib\\site-packages (from jupyterlab<5,>=4.0.2->notebook->jupyter) (2.0.4)\n",
            "Requirement already satisfied: jupyter-lsp>=2.0.0 in c:\\users\\guill\\appdata\\local\\programs\\python\\python311\\lib\\site-packages (from jupyterlab<5,>=4.0.2->notebook->jupyter) (2.2.0)\n",
            "Requirement already satisfied: babel>=2.10 in c:\\users\\guill\\appdata\\local\\programs\\python\\python311\\lib\\site-packages (from jupyterlab-server<3,>=2.22.1->notebook->jupyter) (2.13.0)\n",
            "Requirement already satisfied: json5>=0.9.0 in c:\\users\\guill\\appdata\\local\\programs\\python\\python311\\lib\\site-packages (from jupyterlab-server<3,>=2.22.1->notebook->jupyter) (0.9.14)\n",
            "Requirement already satisfied: sniffio>=1.1 in c:\\users\\guill\\appdata\\local\\programs\\python\\python311\\lib\\site-packages (from anyio>=3.1.0->jupyter-server<3,>=2.4.0->notebook->jupyter) (1.3.0)\n",
            "Requirement already satisfied: python-json-logger>=2.0.4 in c:\\users\\guill\\appdata\\local\\programs\\python\\python311\\lib\\site-packages (from jupyter-events>=0.6.0->jupyter-server<3,>=2.4.0->notebook->jupyter) (2.0.7)\n",
            "Requirement already satisfied: rfc3339-validator in c:\\users\\guill\\appdata\\local\\programs\\python\\python311\\lib\\site-packages (from jupyter-events>=0.6.0->jupyter-server<3,>=2.4.0->notebook->jupyter) (0.1.4)\n",
            "Requirement already satisfied: rfc3986-validator>=0.1.1 in c:\\users\\guill\\appdata\\local\\programs\\python\\python311\\lib\\site-packages (from jupyter-events>=0.6.0->jupyter-server<3,>=2.4.0->notebook->jupyter) (0.1.1)\n",
            "Requirement already satisfied: fqdn in c:\\users\\guill\\appdata\\local\\programs\\python\\python311\\lib\\site-packages (from jsonschema[format-nongpl]>=4.18.0->jupyter-events>=0.6.0->jupyter-server<3,>=2.4.0->notebook->jupyter) (1.5.1)\n",
            "Requirement already satisfied: isoduration in c:\\users\\guill\\appdata\\local\\programs\\python\\python311\\lib\\site-packages (from jsonschema[format-nongpl]>=4.18.0->jupyter-events>=0.6.0->jupyter-server<3,>=2.4.0->notebook->jupyter) (20.11.0)\n",
            "Requirement already satisfied: jsonpointer>1.13 in c:\\users\\guill\\appdata\\local\\programs\\python\\python311\\lib\\site-packages (from jsonschema[format-nongpl]>=4.18.0->jupyter-events>=0.6.0->jupyter-server<3,>=2.4.0->notebook->jupyter) (2.4)\n",
            "Requirement already satisfied: uri-template in c:\\users\\guill\\appdata\\local\\programs\\python\\python311\\lib\\site-packages (from jsonschema[format-nongpl]>=4.18.0->jupyter-events>=0.6.0->jupyter-server<3,>=2.4.0->notebook->jupyter) (1.3.0)\n",
            "Requirement already satisfied: webcolors>=1.11 in c:\\users\\guill\\appdata\\local\\programs\\python\\python311\\lib\\site-packages (from jsonschema[format-nongpl]>=4.18.0->jupyter-events>=0.6.0->jupyter-server<3,>=2.4.0->notebook->jupyter) (1.13)\n",
            "Requirement already satisfied: argon2-cffi-bindings in c:\\users\\guill\\appdata\\local\\programs\\python\\python311\\lib\\site-packages (from argon2-cffi->jupyter-server<3,>=2.4.0->notebook->jupyter) (21.2.0)\n",
            "Requirement already satisfied: cffi>=1.0.1 in c:\\users\\guill\\appdata\\local\\programs\\python\\python311\\lib\\site-packages (from argon2-cffi-bindings->argon2-cffi->jupyter-server<3,>=2.4.0->notebook->jupyter) (1.16.0)\n",
            "Requirement already satisfied: pycparser in c:\\users\\guill\\appdata\\local\\programs\\python\\python311\\lib\\site-packages (from cffi>=1.0.1->argon2-cffi-bindings->argon2-cffi->jupyter-server<3,>=2.4.0->notebook->jupyter) (2.21)\n",
            "Requirement already satisfied: arrow>=0.15.0 in c:\\users\\guill\\appdata\\local\\programs\\python\\python311\\lib\\site-packages (from isoduration->jsonschema[format-nongpl]>=4.18.0->jupyter-events>=0.6.0->jupyter-server<3,>=2.4.0->notebook->jupyter) (1.3.0)\n",
            "Requirement already satisfied: types-python-dateutil>=2.8.10 in c:\\users\\guill\\appdata\\local\\programs\\python\\python311\\lib\\site-packages (from arrow>=0.15.0->isoduration->jsonschema[format-nongpl]>=4.18.0->jupyter-events>=0.6.0->jupyter-server<3,>=2.4.0->notebook->jupyter) (2.8.19.14)\n",
            "Requirement already satisfied: ipython-genutils in c:\\users\\guill\\appdata\\local\\programs\\python\\python311\\lib\\site-packages (from qtconsole->jupyter) (0.2.0)\n",
            "Requirement already satisfied: qtpy>=2.4.0 in c:\\users\\guill\\appdata\\local\\programs\\python\\python311\\lib\\site-packages (from qtconsole->jupyter) (2.4.0)\n",
            "Requirement already satisfied: executing>=1.2.0 in c:\\users\\guill\\appdata\\local\\programs\\python\\python311\\lib\\site-packages (from stack-data->ipython>=6.1.0->ipywidgets) (2.0.0)\n",
            "Requirement already satisfied: asttokens>=2.1.0 in c:\\users\\guill\\appdata\\local\\programs\\python\\python311\\lib\\site-packages (from stack-data->ipython>=6.1.0->ipywidgets) (2.4.0)\n",
            "Requirement already satisfied: pure-eval in c:\\users\\guill\\appdata\\local\\programs\\python\\python311\\lib\\site-packages (from stack-data->ipython>=6.1.0->ipywidgets) (0.2.2)\n",
            "Requirement already satisfied: mpmath>=0.19 in c:\\users\\guill\\appdata\\local\\programs\\python\\python311\\lib\\site-packages (from sympy->torch) (1.3.0)\n",
            "Note: you may need to restart the kernel to use updated packages.\n"
          ]
        }
      ],
      "source": [
        "# Install required packages (run this cell first)\n",
        "%pip install torch torchvision transformers datasets huggingface-hub Pillow numpy matplotlib seaborn scikit-learn tqdm opencv-python tensorboard wandb jupyter ipywidgets\n"
      ]
    },
    {
      "cell_type": "code",
      "execution_count": 3,
      "metadata": {},
      "outputs": [
        {
          "name": "stdout",
          "output_type": "stream",
          "text": [
            "All imports successful!\n",
            "PyTorch version: 2.0.1+cu118\n",
            "CUDA available: True\n"
          ]
        }
      ],
      "source": [
        "# Import required libraries\n",
        "import torch\n",
        "import matplotlib.pyplot as plt\n",
        "import numpy as np\n",
        "from pathlib import Path\n",
        "import warnings\n",
        "warnings.filterwarnings('ignore')\n",
        "\n",
        "# Import workshop components\n",
        "from handwriting_workshop.workshop_notebook import HandwritingWorkshop\n",
        "from handwriting_workshop.data_loader import HandwritingDataLoader, load_sample_dataset\n",
        "from handwriting_workshop.models import create_model, get_available_models\n",
        "from handwriting_workshop.trainer import ModelTrainer\n",
        "from handwriting_workshop.evaluator import ModelEvaluator\n",
        "from handwriting_workshop.dataset_creator import create_handwriting_dataset\n",
        "\n",
        "print(\"All imports successful!\")\n",
        "print(f\"PyTorch version: {torch.__version__}\")\n",
        "print(f\"CUDA available: {torch.cuda.is_available()}\")\n"
      ]
    },
    {
      "cell_type": "markdown",
      "metadata": {},
      "source": [
        "## Step 2: Quick Demo\n",
        "\n",
        "Let's start with a quick demonstration to make sure everything is working correctly.\n"
      ]
    },
    {
      "cell_type": "code",
      "execution_count": 6,
      "metadata": {},
      "outputs": [
        {
          "name": "stdout",
          "output_type": "stream",
          "text": [
            "HANDWRITING RECOGNITION - QUICK DEMO\n",
            "==================================================\n",
            "Workshop initialized on device: cuda\n",
            "\n",
            "============================================================\n",
            "STEP 1: CREATING DATASET\n",
            "============================================================\n",
            "Loading sample dataset...\n",
            "Dataset loaded successfully!\n",
            "Number of classes: 10\n",
            "Number of samples: 100\n",
            "Classes: ['class_0', 'class_1', 'class_2', 'class_3', 'class_4', 'class_5', 'class_6', 'class_7', 'class_8', 'class_9']\n",
            "\n",
            "============================================================\n",
            "STEP 2: PREPARING DATA LOADERS\n",
            "============================================================\n",
            "Created data loaders:\n",
            "  Train: 70 samples\n",
            "  Validation: 15 samples\n",
            "  Test: 15 samples\n",
            "Data loaders created:\n",
            "  Train batches: 5\n",
            "  Validation batches: 1\n",
            "  Test batches: 1\n",
            "\n",
            "============================================================\n",
            "STEP 3: EXPLORING MODEL ARCHITECTURES\n",
            "============================================================\n",
            "Available model types: ['simple_cnn', 'resnet18', 'resnet34', 'resnet50', 'vit', 'improved_cnn']\n",
            "\n",
            "Model size comparison:\n"
          ]
        },
        {
          "name": "stderr",
          "output_type": "stream",
          "text": [
            "Some weights of ViTForImageClassification were not initialized from the model checkpoint at google/vit-base-patch16-224 and are newly initialized because the shapes did not match:\n",
            "- classifier.bias: found shape torch.Size([1000]) in the checkpoint and torch.Size([10]) in the model instantiated\n",
            "- classifier.weight: found shape torch.Size([1000, 768]) in the checkpoint and torch.Size([10, 768]) in the model instantiated\n",
            "- vit.embeddings.patch_embeddings.projection.weight: found shape torch.Size([768, 3, 16, 16]) in the checkpoint and torch.Size([768, 1, 16, 16]) in the model instantiated\n",
            "You should probably TRAIN this model on a down-stream task to be able to use it for predictions and inference.\n"
          ]
        },
        {
          "name": "stdout",
          "output_type": "stream",
          "text": [
            "simple_cnn      | Parameters: 1,276,106 | Architecture: CNN with 3 conv layers + 3 FC layers\n",
            "resnet18        | Parameters: 11,438,026 | Architecture: ResNet resnet18 with custom classifier\n",
            "resnet34        | Parameters: 21,546,186 | Architecture: ResNet resnet34 with custom classifier\n",
            "resnet50        | Parameters: 24,555,978 | Architecture: ResNet resnet50 with custom classifier\n",
            "vit             | Parameters: 85,413,130 | Architecture: Vision Transformer (ViT)\n",
            "improved_cnn    | Parameters: 1,322,378 | Architecture: Improved CNN with residual blocks\n",
            "\n",
            "============================================================\n",
            "STEP 4: TRAINING MODELS\n",
            "============================================================\n",
            "\n",
            "==================================================\n",
            "Training simple_cnn (simple_cnn)\n",
            "==================================================\n",
            "Training on device: cuda\n",
            "Model parameters: 1,276,106\n"
          ]
        },
        {
          "ename": "TypeError",
          "evalue": "handwriting_workshop.trainer.ModelTrainer.train() got multiple values for keyword argument 'epochs'",
          "output_type": "error",
          "traceback": [
            "\u001b[1;31m---------------------------------------------------------------------------\u001b[0m",
            "\u001b[1;31mTypeError\u001b[0m                                 Traceback (most recent call last)",
            "Cell \u001b[1;32mIn[6], line 4\u001b[0m\n\u001b[0;32m      1\u001b[0m \u001b[38;5;66;03m# Run a quick demo\u001b[39;00m\n\u001b[0;32m      2\u001b[0m \u001b[38;5;28;01mfrom\u001b[39;00m \u001b[38;5;21;01mhandwriting_workshop\u001b[39;00m\u001b[38;5;21;01m.\u001b[39;00m\u001b[38;5;21;01mworkshop_notebook\u001b[39;00m \u001b[38;5;28;01mimport\u001b[39;00m run_quick_demo\n\u001b[1;32m----> 4\u001b[0m \u001b[43mrun_quick_demo\u001b[49m\u001b[43m(\u001b[49m\u001b[43m)\u001b[49m\n",
            "File \u001b[1;32mc:\\Users\\guill\\Documents\\wonka\\workshop-CV-lucy\\handwriting_workshop\\workshop_notebook.py:361\u001b[0m, in \u001b[0;36mrun_quick_demo\u001b[1;34m()\u001b[0m\n\u001b[0;32m    358\u001b[0m workshop\u001b[38;5;241m.\u001b[39mstep3_explore_models()\n\u001b[0;32m    360\u001b[0m \u001b[38;5;66;03m# Train just one model for demo\u001b[39;00m\n\u001b[1;32m--> 361\u001b[0m \u001b[43mworkshop\u001b[49m\u001b[38;5;241;43m.\u001b[39;49m\u001b[43mstep4_train_models\u001b[49m\u001b[43m(\u001b[49m\u001b[43mmodel_types\u001b[49m\u001b[38;5;241;43m=\u001b[39;49m\u001b[43m[\u001b[49m\u001b[38;5;124;43m\"\u001b[39;49m\u001b[38;5;124;43msimple_cnn\u001b[39;49m\u001b[38;5;124;43m\"\u001b[39;49m\u001b[43m]\u001b[49m\u001b[43m,\u001b[49m\u001b[43m \u001b[49m\u001b[43mepochs\u001b[49m\u001b[38;5;241;43m=\u001b[39;49m\u001b[38;5;241;43m2\u001b[39;49m\u001b[43m)\u001b[49m\n\u001b[0;32m    363\u001b[0m \u001b[38;5;28mprint\u001b[39m(\u001b[38;5;124m\"\u001b[39m\u001b[38;5;130;01m\\n\u001b[39;00m\u001b[38;5;124mQuick demo completed!\u001b[39m\u001b[38;5;124m\"\u001b[39m)\n\u001b[0;32m    364\u001b[0m \u001b[38;5;28mprint\u001b[39m(\u001b[38;5;124m\"\u001b[39m\u001b[38;5;124mRun workshop.run_complete_workshop() for the full experience.\u001b[39m\u001b[38;5;124m\"\u001b[39m)\n",
            "File \u001b[1;32mc:\\Users\\guill\\Documents\\wonka\\workshop-CV-lucy\\handwriting_workshop\\workshop_notebook.py:181\u001b[0m, in \u001b[0;36mHandwritingWorkshop.step4_train_models\u001b[1;34m(self, model_types, epochs, learning_rate)\u001b[0m\n\u001b[0;32m    176\u001b[0m \u001b[38;5;66;03m# Train models using MultiModelTrainer\u001b[39;00m\n\u001b[0;32m    177\u001b[0m multi_trainer \u001b[38;5;241m=\u001b[39m MultiModelTrainer(\n\u001b[0;32m    178\u001b[0m     save_dir\u001b[38;5;241m=\u001b[39m\u001b[38;5;28mstr\u001b[39m(\u001b[38;5;28mself\u001b[39m\u001b[38;5;241m.\u001b[39mworkshop_dir \u001b[38;5;241m/\u001b[39m \u001b[38;5;124m\"\u001b[39m\u001b[38;5;124mtrained_models\u001b[39m\u001b[38;5;124m\"\u001b[39m)\n\u001b[0;32m    179\u001b[0m )\n\u001b[1;32m--> 181\u001b[0m \u001b[38;5;28mself\u001b[39m\u001b[38;5;241m.\u001b[39mresults \u001b[38;5;241m=\u001b[39m \u001b[43mmulti_trainer\u001b[49m\u001b[38;5;241;43m.\u001b[39;49m\u001b[43mtrain_multiple_models\u001b[49m\u001b[43m(\u001b[49m\n\u001b[0;32m    182\u001b[0m \u001b[43m    \u001b[49m\u001b[43mmodels_config\u001b[49m\u001b[38;5;241;43m=\u001b[39;49m\u001b[43mmodels_config\u001b[49m\u001b[43m,\u001b[49m\n\u001b[0;32m    183\u001b[0m \u001b[43m    \u001b[49m\u001b[43mtrain_loader\u001b[49m\u001b[38;5;241;43m=\u001b[39;49m\u001b[43mtrain_loader\u001b[49m\u001b[43m,\u001b[49m\n\u001b[0;32m    184\u001b[0m \u001b[43m    \u001b[49m\u001b[43mval_loader\u001b[49m\u001b[38;5;241;43m=\u001b[39;49m\u001b[43mval_loader\u001b[49m\u001b[43m,\u001b[49m\n\u001b[0;32m    185\u001b[0m \u001b[43m    \u001b[49m\u001b[43mtest_loader\u001b[49m\u001b[38;5;241;43m=\u001b[39;49m\u001b[43mtest_loader\u001b[49m\u001b[43m,\u001b[49m\n\u001b[0;32m    186\u001b[0m \u001b[43m    \u001b[49m\u001b[43mepochs\u001b[49m\u001b[38;5;241;43m=\u001b[39;49m\u001b[43mepochs\u001b[49m\u001b[43m,\u001b[49m\n\u001b[0;32m    187\u001b[0m \u001b[43m    \u001b[49m\u001b[43mlearning_rate\u001b[49m\u001b[38;5;241;43m=\u001b[39;49m\u001b[43mlearning_rate\u001b[49m\n\u001b[0;32m    188\u001b[0m \u001b[43m\u001b[49m\u001b[43m)\u001b[49m\n\u001b[0;32m    190\u001b[0m \u001b[38;5;66;03m# Store trainers for later use\u001b[39;00m\n\u001b[0;32m    191\u001b[0m \u001b[38;5;28mself\u001b[39m\u001b[38;5;241m.\u001b[39mmulti_trainer \u001b[38;5;241m=\u001b[39m multi_trainer\n",
            "File \u001b[1;32mc:\\Users\\guill\\Documents\\wonka\\workshop-CV-lucy\\handwriting_workshop\\trainer.py:425\u001b[0m, in \u001b[0;36mMultiModelTrainer.train_multiple_models\u001b[1;34m(self, models_config, train_loader, val_loader, test_loader, epochs, learning_rate)\u001b[0m\n\u001b[0;32m    419\u001b[0m trainer \u001b[38;5;241m=\u001b[39m ModelTrainer(\n\u001b[0;32m    420\u001b[0m     model, \n\u001b[0;32m    421\u001b[0m     save_dir\u001b[38;5;241m=\u001b[39m\u001b[38;5;28mself\u001b[39m\u001b[38;5;241m.\u001b[39msave_dir \u001b[38;5;241m/\u001b[39m model_name\n\u001b[0;32m    422\u001b[0m )\n\u001b[0;32m    424\u001b[0m \u001b[38;5;66;03m# Train model\u001b[39;00m\n\u001b[1;32m--> 425\u001b[0m history \u001b[38;5;241m=\u001b[39m trainer\u001b[38;5;241m.\u001b[39mtrain(\n\u001b[0;32m    426\u001b[0m     train_loader\u001b[38;5;241m=\u001b[39mtrain_loader,\n\u001b[0;32m    427\u001b[0m     val_loader\u001b[38;5;241m=\u001b[39mval_loader,\n\u001b[0;32m    428\u001b[0m     epochs\u001b[38;5;241m=\u001b[39mepochs,\n\u001b[0;32m    429\u001b[0m     learning_rate\u001b[38;5;241m=\u001b[39mlearning_rate,\n\u001b[0;32m    430\u001b[0m     \u001b[38;5;241m*\u001b[39m\u001b[38;5;241m*\u001b[39mconfig\u001b[38;5;241m.\u001b[39mget(\u001b[38;5;124m'\u001b[39m\u001b[38;5;124mtraining_kwargs\u001b[39m\u001b[38;5;124m'\u001b[39m, {})\n\u001b[0;32m    431\u001b[0m )\n\u001b[0;32m    433\u001b[0m \u001b[38;5;66;03m# Evaluate model\u001b[39;00m\n\u001b[0;32m    434\u001b[0m test_results \u001b[38;5;241m=\u001b[39m trainer\u001b[38;5;241m.\u001b[39mevaluate_model(test_loader)\n",
            "\u001b[1;31mTypeError\u001b[0m: handwriting_workshop.trainer.ModelTrainer.train() got multiple values for keyword argument 'epochs'"
          ]
        }
      ],
      "source": [
        "# Run a quick demo\n",
        "from handwriting_workshop.workshop_notebook import run_quick_demo\n",
        "\n",
        "run_quick_demo()\n"
      ]
    },
    {
      "cell_type": "code",
      "execution_count": 7,
      "metadata": {},
      "outputs": [
        {
          "name": "stdout",
          "output_type": "stream",
          "text": [
            "Modules reloaded successfully!\n"
          ]
        }
      ],
      "source": [
        "# Restart kernel and reload modules to ensure changes are applied\n",
        "import importlib\n",
        "import sys\n",
        "\n",
        "# Reload the workshop modules\n",
        "if 'handwriting_workshop.trainer' in sys.modules:\n",
        "    importlib.reload(sys.modules['handwriting_workshop.trainer'])\n",
        "if 'handwriting_workshop.workshop_notebook' in sys.modules:\n",
        "    importlib.reload(sys.modules['handwriting_workshop.workshop_notebook'])\n",
        "\n",
        "print(\"Modules reloaded successfully!\")\n"
      ]
    },
    {
      "cell_type": "code",
      "execution_count": 8,
      "metadata": {},
      "outputs": [
        {
          "name": "stdout",
          "output_type": "stream",
          "text": [
            "Running quick demo with reloaded modules...\n",
            "HANDWRITING RECOGNITION - QUICK DEMO\n",
            "==================================================\n",
            "Workshop initialized on device: cuda\n",
            "\n",
            "============================================================\n",
            "STEP 1: CREATING DATASET\n",
            "============================================================\n",
            "Loading sample dataset...\n",
            "Dataset loaded successfully!\n",
            "Number of classes: 10\n",
            "Number of samples: 100\n",
            "Classes: ['class_0', 'class_1', 'class_2', 'class_3', 'class_4', 'class_5', 'class_6', 'class_7', 'class_8', 'class_9']\n",
            "\n",
            "============================================================\n",
            "STEP 2: PREPARING DATA LOADERS\n",
            "============================================================\n",
            "Created data loaders:\n",
            "  Train: 70 samples\n",
            "  Validation: 15 samples\n",
            "  Test: 15 samples\n",
            "Data loaders created:\n",
            "  Train batches: 5\n",
            "  Validation batches: 1\n",
            "  Test batches: 1\n",
            "\n",
            "============================================================\n",
            "STEP 3: EXPLORING MODEL ARCHITECTURES\n",
            "============================================================\n",
            "Available model types: ['simple_cnn', 'resnet18', 'resnet34', 'resnet50', 'vit', 'improved_cnn']\n",
            "\n",
            "Model size comparison:\n"
          ]
        },
        {
          "name": "stderr",
          "output_type": "stream",
          "text": [
            "Some weights of ViTForImageClassification were not initialized from the model checkpoint at google/vit-base-patch16-224 and are newly initialized because the shapes did not match:\n",
            "- classifier.bias: found shape torch.Size([1000]) in the checkpoint and torch.Size([10]) in the model instantiated\n",
            "- classifier.weight: found shape torch.Size([1000, 768]) in the checkpoint and torch.Size([10, 768]) in the model instantiated\n",
            "- vit.embeddings.patch_embeddings.projection.weight: found shape torch.Size([768, 3, 16, 16]) in the checkpoint and torch.Size([768, 1, 16, 16]) in the model instantiated\n",
            "You should probably TRAIN this model on a down-stream task to be able to use it for predictions and inference.\n"
          ]
        },
        {
          "name": "stdout",
          "output_type": "stream",
          "text": [
            "simple_cnn      | Parameters: 1,276,106 | Architecture: CNN with 3 conv layers + 3 FC layers\n",
            "resnet18        | Parameters: 11,438,026 | Architecture: ResNet resnet18 with custom classifier\n",
            "resnet34        | Parameters: 21,546,186 | Architecture: ResNet resnet34 with custom classifier\n",
            "resnet50        | Parameters: 24,555,978 | Architecture: ResNet resnet50 with custom classifier\n",
            "vit             | Parameters: 85,413,130 | Architecture: Vision Transformer (ViT)\n",
            "improved_cnn    | Parameters: 1,322,378 | Architecture: Improved CNN with residual blocks\n",
            "\n",
            "============================================================\n",
            "STEP 4: TRAINING MODELS\n",
            "============================================================\n",
            "\n",
            "==================================================\n",
            "Training simple_cnn (simple_cnn)\n",
            "==================================================\n",
            "Training on device: cuda\n",
            "Model parameters: 1,276,106\n",
            "Starting training for 2 epochs...\n",
            "Optimizer: adam, Learning rate: 0.001\n"
          ]
        },
        {
          "name": "stderr",
          "output_type": "stream",
          "text": [
            "                                                                                \r"
          ]
        },
        {
          "name": "stdout",
          "output_type": "stream",
          "text": [
            "Epoch 1/2 - Train Loss: 2.5480, Train Acc: 15.71% - Val Loss: 2.3011, Val Acc: 6.67% - Time: 50.04s\n"
          ]
        },
        {
          "name": "stderr",
          "output_type": "stream",
          "text": [
            "                                                                                \r"
          ]
        },
        {
          "name": "stdout",
          "output_type": "stream",
          "text": [
            "Epoch 2/2 - Train Loss: 2.9918, Train Acc: 12.86% - Val Loss: 2.3131, Val Acc: 13.33% - Time: 33.52s\n",
            "Training completed in 83.58 seconds\n",
            "Best validation accuracy: 13.33%\n"
          ]
        },
        {
          "name": "stderr",
          "output_type": "stream",
          "text": [
            "Evaluating: 100%|██████████| 1/1 [00:16<00:00, 16.50s/it]\n"
          ]
        },
        {
          "data": {
            "image/png": "[encoded data removed]",
            "text/plain": [
              "<Figure size 1500x500 with 2 Axes>"
            ]
          },
          "metadata": {},
          "output_type": "display_data"
        },
        {
          "name": "stdout",
          "output_type": "stream",
          "text": [
            "\n",
            "Training completed for all models!\n",
            "\n",
            "================================================================================\n",
            "MODEL COMPARISON RESULTS\n",
            "================================================================================\n",
            "simple_cnn           | CNN with 3 conv layers + 3 FC layers |  1,276,106 |        6.67% |          13.33% |         3.0s\n",
            "================================================================================\n",
            "\n",
            "Quick demo completed!\n",
            "Run workshop.run_complete_workshop() for the full experience.\n"
          ]
        }
      ],
      "source": [
        "# Re-import and run the demo after module reload\n",
        "from handwriting_workshop.workshop_notebook import run_quick_demo\n",
        "\n",
        "print(\"Running quick demo with reloaded modules...\")\n",
        "run_quick_demo()\n"
      ]
    },
    {
      "cell_type": "markdown",
      "metadata": {},
      "source": [
        "## Step 5: Create a REAL Handwriting Dataset\n",
        "\n",
        "The previous demo used random noise images. Let's create a proper synthetic handwriting dataset with actual character patterns!\n"
      ]
    },
    {
      "cell_type": "code",
      "execution_count": null,
      "metadata": {},
      "outputs": [],
      "source": [
        "# Create a proper synthetic handwriting dataset\n",
        "from handwriting_workshop.dataset_creator import create_handwriting_dataset\n",
        "\n",
        "print(\"Creating a REAL synthetic handwriting dataset...\")\n",
        "creator = create_handwriting_dataset(\n",
        "    output_dir=\"real_handwriting_dataset\",\n",
        "    dataset_type=\"synthetic\",\n",
        "    character_set=\"numbers\",  # Start with just numbers 0-9\n",
        "    num_samples_per_class=200,  # Much more samples per class\n",
        "    image_size=(32, 32)\n",
        ")\n",
        "\n",
        "print(\"Dataset created! Now let's train on REAL handwriting patterns...\")\n"
      ]
    },
    {
      "cell_type": "code",
      "execution_count": null,
      "metadata": {},
      "outputs": [],
      "source": [
        "# Load the real handwriting dataset and train properly\n",
        "from handwriting_workshop.data_loader import HandwritingDataLoader\n",
        "\n",
        "# Load the real dataset\n",
        "data_loader = HandwritingDataLoader(image_size=(32, 32))\n",
        "dataset, label_to_idx = data_loader.load_custom_dataset(\"real_handwriting_dataset\")\n",
        "\n",
        "print(f\"Loaded REAL dataset with {len(dataset)} samples and {dataset.num_classes} classes\")\n",
        "print(f\"Classes: {list(label_to_idx.keys())}\")\n",
        "\n",
        "# Create data loaders\n",
        "train_loader, val_loader, test_loader = data_loader.create_data_loaders(\n",
        "    dataset, batch_size=32, train_split=0.7, val_split=0.15, test_split=0.15\n",
        ")\n",
        "\n",
        "print(f\"Data loaders created:\")\n",
        "print(f\"  Train: {len(train_loader.dataset)} samples\")\n",
        "print(f\"  Validation: {len(val_loader.dataset)} samples\") \n",
        "print(f\"  Test: {len(test_loader.dataset)} samples\")\n"
      ]
    },
    {
      "cell_type": "code",
      "execution_count": null,
      "metadata": {},
      "outputs": [],
      "source": [
        "# Train a model on the REAL handwriting dataset with proper parameters\n",
        "from handwriting_workshop.models import create_model\n",
        "from handwriting_workshop.trainer import ModelTrainer\n",
        "\n",
        "# Create a better model\n",
        "model = create_model(\"improved_cnn\", num_classes=dataset.num_classes)\n",
        "print(f\"Model created with {sum(p.numel() for p in model.parameters()):,} parameters\")\n",
        "\n",
        "# Train with proper parameters\n",
        "trainer = ModelTrainer(model)\n",
        "print(\"Starting training with REAL handwriting data...\")\n",
        "\n",
        "# Train for more epochs with better parameters\n",
        "history = trainer.train(\n",
        "    train_loader=train_loader,\n",
        "    val_loader=val_loader,\n",
        "    epochs=10,  # More epochs\n",
        "    learning_rate=0.001,\n",
        "    optimizer_type=\"adam\",\n",
        "    scheduler_type=\"step\",\n",
        "    save_best=True,\n",
        "    early_stopping_patience=5\n",
        ")\n",
        "\n",
        "# Plot training progress\n",
        "trainer.plot_training_history()\n"
      ]
    },
    {
      "cell_type": "code",
      "execution_count": null,
      "metadata": {},
      "outputs": [],
      "source": [
        "# Evaluate the properly trained model\n",
        "from handwriting_workshop.evaluator import ModelEvaluator\n",
        "\n",
        "# Comprehensive evaluation\n",
        "evaluator = ModelEvaluator(model)\n",
        "results = evaluator.evaluate_dataset(test_loader, list(label_to_idx.keys()))\n",
        "\n",
        "print(\"🎉 MUCH BETTER RESULTS!\")\n",
        "print(f\"Test Accuracy: {results['accuracy']:.4f} ({results['accuracy']*100:.2f}%)\")\n",
        "print(f\"Macro F1-Score: {results['macro_averages']['f1_score']:.4f}\")\n",
        "print(f\"Weighted F1-Score: {results['weighted_averages']['f1_score']:.4f}\")\n",
        "\n",
        "# Plot confusion matrix\n",
        "evaluator.plot_confusion_matrix()\n",
        "\n",
        "# Generate detailed report\n",
        "report = evaluator.generate_report()\n",
        "print(\"\\n\" + \"=\"*50)\n",
        "print(\"DETAILED EVALUATION REPORT\")\n",
        "print(\"=\"*50)\n",
        "print(report)\n"
      ]
    },
    {
      "cell_type": "code",
      "execution_count": null,
      "metadata": {},
      "outputs": [],
      "source": []
    }
  ],
  "metadata": {
    "kernelspec": {
      "display_name": "Python 3",
      "language": "python",
      "name": "python3"
    },
    "language_info": {
      "codemirror_mode": {
        "name": "ipython",
        "version": 3
      },
      "file_extension": ".py",
      "mimetype": "text/x-python",
      "name": "python",
      "nbconvert_exporter": "python",
      "pygments_lexer": "ipython3",
      "version": "3.11.3"
    }
  },
  "nbformat": 4,
  "nbformat_minor": 2
}
